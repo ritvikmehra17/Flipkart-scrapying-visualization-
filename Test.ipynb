{
 "cells": [
  {
   "cell_type": "code",
   "execution_count": 5,
   "metadata": {},
   "outputs": [],
   "source": [
    "import requests\n",
    "from bs4 import BeautifulSoup"
   ]
  },
  {
   "cell_type": "code",
   "execution_count": 6,
   "metadata": {},
   "outputs": [
    {
     "name": "stdout",
     "output_type": "stream",
     "text": [
      "success\n"
     ]
    }
   ],
   "source": [
    "url=\"https://coreyms.com/\"\n",
    "try:\n",
    "    page=requests.get(url)\n",
    "    if page.status_code==200:\n",
    "        print(\"success\")\n",
    "    else:\n",
    "        print(\"inavlid\",page.status_code)\n",
    "except Exception as e:\n",
    "    print(e)"
   ]
  },
  {
   "cell_type": "code",
   "execution_count": 7,
   "metadata": {},
   "outputs": [],
   "source": [
    "soup=BeautifulSoup(page.text,'lxml')"
   ]
  },
  {
   "cell_type": "code",
   "execution_count": 10,
   "metadata": {},
   "outputs": [
    {
     "data": {
      "text/plain": [
       "<main class=\"content\"><article class=\"post-1647 post type-post status-publish format-standard has-post-thumbnail category-development category-python tag-standard-library tag-subprocess entry\" itemscope=\"\" itemtype=\"https://schema.org/CreativeWork\"><header class=\"entry-header\"><h2 class=\"entry-title\" itemprop=\"headline\"><a class=\"entry-title-link\" href=\"https://coreyms.com/development/python/python-tutorial-calling-external-commands-using-the-subprocess-module\" rel=\"bookmark\">Python Tutorial: Calling External Commands Using the Subprocess Module</a></h2>\n",
       "<p class=\"entry-meta\"><time class=\"entry-time\" datetime=\"2019-07-24T15:26:19+00:00\" itemprop=\"datePublished\">July 24, 2019</time> by <span class=\"entry-author\" itemprop=\"author\" itemscope=\"\" itemtype=\"https://schema.org/Person\"><a class=\"entry-author-link\" href=\"https://coreyms.com/author/coreymschafer\" itemprop=\"url\" rel=\"author\"><span class=\"entry-author-name\" itemprop=\"name\">Corey Schafer</span></a></span> <span class=\"entry-comments-link\"><a href=\"https://coreyms.com/development/python/python-tutorial-calling-external-commands-using-the-subprocess-module#respond\"><span class=\"dsq-postid\" data-dsqidentifier=\"1647 http://coreyms.com/?p=1647\">Leave a Comment</span></a></span> </p></header><div class=\"entry-content\" itemprop=\"text\">\n",
       "<p>In this Python Programming Tutorial, we will be learning how to run external commands using the subprocess module from the standard library. We will learn how to run commands, capture the output, handle errors, and also how to pipe output into other commands. Let’s get started…</p>\n",
       "<figure class=\"wp-block-embed-youtube wp-block-embed is-type-video is-provider-youtube wp-embed-aspect-16-9 wp-has-aspect-ratio\"><div class=\"wp-block-embed__wrapper\">\n",
       "<span class=\"embed-youtube\" style=\"text-align:center; display: block;\"><iframe allowfullscreen=\"true\" class=\"youtube-player\" height=\"360\" src=\"https://www.youtube.com/embed/2Fp1N6dof0Y?version=3&amp;rel=1&amp;fs=1&amp;autohide=2&amp;showsearch=0&amp;showinfo=1&amp;iv_load_policy=1&amp;wmode=transparent\" style=\"border:0;\" type=\"text/html\" width=\"640\"></iframe></span>\n",
       "</div></figure>\n",
       "</div><footer class=\"entry-footer\"><p class=\"entry-meta\"><span class=\"entry-categories\">Filed Under: <a href=\"https://coreyms.com/category/development\" rel=\"category tag\">Development</a>, <a href=\"https://coreyms.com/category/development/python\" rel=\"category tag\">Python</a></span> <span class=\"entry-tags\">Tagged With: <a href=\"https://coreyms.com/tag/standard-library\" rel=\"tag\">standard library</a>, <a href=\"https://coreyms.com/tag/subprocess\" rel=\"tag\">subprocess</a></span></p></footer></article><article class=\"post-1642 post type-post status-publish format-standard has-post-thumbnail category-development category-python tag-development-environment tag-visual-studio-code tag-visual-studios tag-vs-code tag-vscode entry\" itemscope=\"\" itemtype=\"https://schema.org/CreativeWork\"><header class=\"entry-header\"><h2 class=\"entry-title\" itemprop=\"headline\"><a class=\"entry-title-link\" href=\"https://coreyms.com/development/python/visual-studio-code-windows-setting-up-a-python-development-environment-and-complete-overview\" rel=\"bookmark\">Visual Studio Code (Windows) – Setting up a Python Development Environment and Complete Overview</a></h2>\n",
       "<p class=\"entry-meta\"><time class=\"entry-time\" datetime=\"2019-05-01T14:03:24+00:00\" itemprop=\"datePublished\">May 1, 2019</time> by <span class=\"entry-author\" itemprop=\"author\" itemscope=\"\" itemtype=\"https://schema.org/Person\"><a class=\"entry-author-link\" href=\"https://coreyms.com/author/coreymschafer\" itemprop=\"url\" rel=\"author\"><span class=\"entry-author-name\" itemprop=\"name\">Corey Schafer</span></a></span> <span class=\"entry-comments-link\"><a href=\"https://coreyms.com/development/python/visual-studio-code-windows-setting-up-a-python-development-environment-and-complete-overview#respond\"><span class=\"dsq-postid\" data-dsqidentifier=\"1642 http://coreyms.com/?p=1642\">Leave a Comment</span></a></span> </p></header><div class=\"entry-content\" itemprop=\"text\">\n",
       "<p>In this Python Programming Tutorial, we will be learning how to set up a Python development environment in VSCode on Windows. VSCode is a very nice free editor for writing Python applications and many developers are now switching over to this editor. In this video, we will learn how to install VSCode, get the Python extension installed, how to change Python interpreters, create virtual environments, format/lint our code, how to use Git within VSCode, how to debug our programs, how unit testing works, and more. We have a lot to cover, so let’s go ahead and get started…</p>\n",
       "<p>VSCode on MacOS – https://youtu.be/06I63_p-2A4</p>\n",
       "<p>Timestamps for topics in this tutorial:<br/> Installation – 1:13<br/> Python Extension – 5:48<br/> Switching Interpreters – 10:04<br/> Changing Color Themes – 12:35<br/> VSCode Settings – 16:16<br/> Set Default Python – 21:33<br/> Using Virtual Environments – 25:10<br/> IntelliSense – 29:45<br/> Code Formatting – 32:13<br/> Code Linting – 37:06<br/> Code Runner Extension – 39:42<br/> Git Integration – 47:44<br/> Use Different Terminal – 51:07<br/> Debugging – 58:45<br/> Unit Testing – 1:03:25<br/> Zen Mode – 1:09:55</p>\n",
       "<figure class=\"wp-block-embed-youtube wp-block-embed is-type-video is-provider-youtube wp-embed-aspect-16-9 wp-has-aspect-ratio\"><div class=\"wp-block-embed__wrapper\">\n",
       "<span class=\"embed-youtube\" style=\"text-align:center; display: block;\"><iframe allowfullscreen=\"true\" class=\"youtube-player\" height=\"360\" src=\"https://www.youtube.com/embed/-nh9rCzPJ20?version=3&amp;rel=1&amp;fs=1&amp;autohide=2&amp;showsearch=0&amp;showinfo=1&amp;iv_load_policy=1&amp;wmode=transparent\" style=\"border:0;\" type=\"text/html\" width=\"640\"></iframe></span>\n",
       "</div></figure>\n",
       "</div><footer class=\"entry-footer\"><p class=\"entry-meta\"><span class=\"entry-categories\">Filed Under: <a href=\"https://coreyms.com/category/development\" rel=\"category tag\">Development</a>, <a href=\"https://coreyms.com/category/development/python\" rel=\"category tag\">Python</a></span> <span class=\"entry-tags\">Tagged With: <a href=\"https://coreyms.com/tag/development-environment\" rel=\"tag\">Development Environment</a>, <a href=\"https://coreyms.com/tag/visual-studio-code\" rel=\"tag\">visual studio code</a>, <a href=\"https://coreyms.com/tag/visual-studios\" rel=\"tag\">visual studios</a>, <a href=\"https://coreyms.com/tag/vs-code\" rel=\"tag\">vs code</a>, <a href=\"https://coreyms.com/tag/vscode\" rel=\"tag\">vscode</a></span></p></footer></article><article class=\"post-1639 post type-post status-publish format-standard has-post-thumbnail category-development category-python tag-development-environment tag-visual-studio-code tag-visual-studios tag-vs-code tag-vscode entry\" itemscope=\"\" itemtype=\"https://schema.org/CreativeWork\"><header class=\"entry-header\"><h2 class=\"entry-title\" itemprop=\"headline\"><a class=\"entry-title-link\" href=\"https://coreyms.com/development/python/visual-studio-code-mac-setting-up-a-python-development-environment-and-complete-overview\" rel=\"bookmark\">Visual Studio Code (Mac) – Setting up a Python Development Environment and Complete Overview</a></h2>\n",
       "<p class=\"entry-meta\"><time class=\"entry-time\" datetime=\"2019-05-01T14:01:45+00:00\" itemprop=\"datePublished\">May 1, 2019</time> by <span class=\"entry-author\" itemprop=\"author\" itemscope=\"\" itemtype=\"https://schema.org/Person\"><a class=\"entry-author-link\" href=\"https://coreyms.com/author/coreymschafer\" itemprop=\"url\" rel=\"author\"><span class=\"entry-author-name\" itemprop=\"name\">Corey Schafer</span></a></span> <span class=\"entry-comments-link\"><a href=\"https://coreyms.com/development/python/visual-studio-code-mac-setting-up-a-python-development-environment-and-complete-overview#respond\"><span class=\"dsq-postid\" data-dsqidentifier=\"1639 http://coreyms.com/?p=1639\">Leave a Comment</span></a></span> </p></header><div class=\"entry-content\" itemprop=\"text\">\n",
       "<p>In this Python Programming Tutorial, we will be learning how to set up a Python development environment in VSCode on MacOS. VSCode is a very nice free editor for writing Python applications and many developers are now switching over to this editor. In this video, we will learn how to install VSCode, get the Python extension installed, how to change Python interpreters, create virtual environments, format/lint our code, how to use Git within VSCode, how to debug our programs, how unit testing works, and more. We have a lot to cover, so let’s go ahead and get started…</p>\n",
       "<p>VSCode on Windows – https://youtu.be/-nh9rCzPJ20</p>\n",
       "<p>Timestamps for topics in this tutorial:<br/> Installation – 1:11<br/> Python Extension – 6:21<br/> Switching Interpreters – 10:16<br/> Changing Color Themes – 13:08<br/> VSCode Settings – 17:12<br/> Set Default Python – 22:24<br/> Using Virtual Environments – 25:52<br/> IntelliSense – 30:28<br/> Code Formatting – 33:08<br/> Code Linting – 38:01<br/> Code Runner Extension – 40:45<br/> Git Integration – 49:05<br/> Debugging – 58:15<br/> Unit Testing – 1:02:38<br/> Zen Mode – 1:10:42 </p>\n",
       "<figure class=\"wp-block-embed-youtube wp-block-embed is-type-video is-provider-youtube wp-embed-aspect-16-9 wp-has-aspect-ratio\"><div class=\"wp-block-embed__wrapper\">\n",
       "<span class=\"embed-youtube\" style=\"text-align:center; display: block;\"><iframe allowfullscreen=\"true\" class=\"youtube-player\" height=\"360\" src=\"https://www.youtube.com/embed/06I63_p-2A4?version=3&amp;rel=1&amp;fs=1&amp;autohide=2&amp;showsearch=0&amp;showinfo=1&amp;iv_load_policy=1&amp;wmode=transparent\" style=\"border:0;\" type=\"text/html\" width=\"640\"></iframe></span>\n",
       "</div></figure>\n",
       "</div><footer class=\"entry-footer\"><p class=\"entry-meta\"><span class=\"entry-categories\">Filed Under: <a href=\"https://coreyms.com/category/development\" rel=\"category tag\">Development</a>, <a href=\"https://coreyms.com/category/development/python\" rel=\"category tag\">Python</a></span> <span class=\"entry-tags\">Tagged With: <a href=\"https://coreyms.com/tag/development-environment\" rel=\"tag\">Development Environment</a>, <a href=\"https://coreyms.com/tag/visual-studio-code\" rel=\"tag\">visual studio code</a>, <a href=\"https://coreyms.com/tag/visual-studios\" rel=\"tag\">visual studios</a>, <a href=\"https://coreyms.com/tag/vs-code\" rel=\"tag\">vs code</a>, <a href=\"https://coreyms.com/tag/vscode\" rel=\"tag\">vscode</a></span></p></footer></article><article class=\"post-1634 post type-post status-publish format-standard has-post-thumbnail category-development category-python tag-common-errors tag-common-mistakes tag-functions tag-mutable-default-arguments entry\" itemscope=\"\" itemtype=\"https://schema.org/CreativeWork\"><header class=\"entry-header\"><h2 class=\"entry-title\" itemprop=\"headline\"><a class=\"entry-title-link\" href=\"https://coreyms.com/development/python/clarifying-the-issues-with-mutable-default-arguments\" rel=\"bookmark\">Clarifying the Issues with Mutable Default Arguments</a></h2>\n",
       "<p class=\"entry-meta\"><time class=\"entry-time\" datetime=\"2019-04-24T11:46:42+00:00\" itemprop=\"datePublished\">April 24, 2019</time> by <span class=\"entry-author\" itemprop=\"author\" itemscope=\"\" itemtype=\"https://schema.org/Person\"><a class=\"entry-author-link\" href=\"https://coreyms.com/author/coreymschafer\" itemprop=\"url\" rel=\"author\"><span class=\"entry-author-name\" itemprop=\"name\">Corey Schafer</span></a></span> <span class=\"entry-comments-link\"><a href=\"https://coreyms.com/development/python/clarifying-the-issues-with-mutable-default-arguments#respond\"><span class=\"dsq-postid\" data-dsqidentifier=\"1634 http://coreyms.com/?p=1634\">Leave a Comment</span></a></span> </p></header><div class=\"entry-content\" itemprop=\"text\">\n",
       "<p>In this Python Programming Tutorial, we will be clarifying the issues with mutable default arguments. We discussed this in my last video titled “5 Common Python Mistakes and How to Fix Them”, but I received many comments from people who were still confused. So we will be doing a deeper dive to explain exactly what is going on here. Let’s get started…</p>\n",
       "<figure class=\"wp-block-embed-youtube wp-block-embed is-type-video is-provider-youtube wp-embed-aspect-16-9 wp-has-aspect-ratio\"><div class=\"wp-block-embed__wrapper\">\n",
       "<span class=\"embed-youtube\" style=\"text-align:center; display: block;\"><iframe allowfullscreen=\"true\" class=\"youtube-player\" height=\"360\" src=\"https://www.youtube.com/embed/_JGmemuINww?version=3&amp;rel=1&amp;fs=1&amp;autohide=2&amp;showsearch=0&amp;showinfo=1&amp;iv_load_policy=1&amp;wmode=transparent\" style=\"border:0;\" type=\"text/html\" width=\"640\"></iframe></span>\n",
       "</div></figure>\n",
       "</div><footer class=\"entry-footer\"><p class=\"entry-meta\"><span class=\"entry-categories\">Filed Under: <a href=\"https://coreyms.com/category/development\" rel=\"category tag\">Development</a>, <a href=\"https://coreyms.com/category/development/python\" rel=\"category tag\">Python</a></span> <span class=\"entry-tags\">Tagged With: <a href=\"https://coreyms.com/tag/common-errors\" rel=\"tag\">common errors</a>, <a href=\"https://coreyms.com/tag/common-mistakes\" rel=\"tag\">common mistakes</a>, <a href=\"https://coreyms.com/tag/functions\" rel=\"tag\">functions</a>, <a href=\"https://coreyms.com/tag/mutable-default-arguments\" rel=\"tag\">mutable default arguments</a></span></p></footer></article><article class=\"post-1629 post type-post status-publish format-standard has-post-thumbnail category-development category-python tag-common-errors tag-common-mistakes tag-indentationerror tag-python-gotchas entry\" itemscope=\"\" itemtype=\"https://schema.org/CreativeWork\"><header class=\"entry-header\"><h2 class=\"entry-title\" itemprop=\"headline\"><a class=\"entry-title-link\" href=\"https://coreyms.com/development/python/5-common-python-mistakes-and-how-to-fix-them-2\" rel=\"bookmark\">5 Common Python Mistakes and How to Fix Them</a></h2>\n",
       "<p class=\"entry-meta\"><time class=\"entry-time\" datetime=\"2019-04-22T13:56:21+00:00\" itemprop=\"datePublished\">April 22, 2019</time> by <span class=\"entry-author\" itemprop=\"author\" itemscope=\"\" itemtype=\"https://schema.org/Person\"><a class=\"entry-author-link\" href=\"https://coreyms.com/author/coreymschafer\" itemprop=\"url\" rel=\"author\"><span class=\"entry-author-name\" itemprop=\"name\">Corey Schafer</span></a></span> <span class=\"entry-comments-link\"><a href=\"https://coreyms.com/development/python/5-common-python-mistakes-and-how-to-fix-them-2#respond\"><span class=\"dsq-postid\" data-dsqidentifier=\"1629 http://coreyms.com/?p=1629\">Leave a Comment</span></a></span> </p></header><div class=\"entry-content\" itemprop=\"text\">\n",
       "<p>In this Python Programming Tutorial, we will be going over some of the most common mistakes. I get a lot of questions from people every day, and I have seen a lot of people making these same mistakes in their code. So we will investigate each of these common mistakes and also look at the fixes for each other these as well. Here are the timestamps for each topic we will cover…<br/> 1) Indentation and Spaces – 0:45<br/> 2) Naming Conflicts – 4:12<br/> 3) Mutable Default Args – 10:05<br/> 4) Exhausting Iterators – 16:35<br/> 5) Importing with * – 22:13</p>\n",
       "<figure class=\"wp-block-embed-youtube wp-block-embed is-type-video is-provider-youtube wp-embed-aspect-16-9 wp-has-aspect-ratio\"><div class=\"wp-block-embed__wrapper\">\n",
       "<span class=\"embed-youtube\" style=\"text-align:center; display: block;\"><iframe allowfullscreen=\"true\" class=\"youtube-player\" height=\"360\" src=\"https://www.youtube.com/embed/zdJEYhA2AZQ?version=3&amp;rel=1&amp;fs=1&amp;autohide=2&amp;showsearch=0&amp;showinfo=1&amp;iv_load_policy=1&amp;wmode=transparent\" style=\"border:0;\" type=\"text/html\" width=\"640\"></iframe></span>\n",
       "</div></figure>\n",
       "</div><footer class=\"entry-footer\"><p class=\"entry-meta\"><span class=\"entry-categories\">Filed Under: <a href=\"https://coreyms.com/category/development\" rel=\"category tag\">Development</a>, <a href=\"https://coreyms.com/category/development/python\" rel=\"category tag\">Python</a></span> <span class=\"entry-tags\">Tagged With: <a href=\"https://coreyms.com/tag/common-errors\" rel=\"tag\">common errors</a>, <a href=\"https://coreyms.com/tag/common-mistakes\" rel=\"tag\">common mistakes</a>, <a href=\"https://coreyms.com/tag/indentationerror\" rel=\"tag\">indentationerror</a>, <a href=\"https://coreyms.com/tag/python-gotchas\" rel=\"tag\">python gotchas</a></span></p></footer></article><article class=\"post-1623 post type-post status-publish format-standard has-post-thumbnail category-development tag-dev-machine tag-development-environment tag-development-machine tag-mac tag-macbook tag-macbook-pro entry\" itemscope=\"\" itemtype=\"https://schema.org/CreativeWork\"><header class=\"entry-header\"><h2 class=\"entry-title\" itemprop=\"headline\"><a class=\"entry-title-link\" href=\"https://coreyms.com/development/how-i-setup-a-new-development-machine-using-scripts-to-automate-installs-and-save-time\" rel=\"bookmark\">How I Setup a New Development Machine – Using Scripts to Automate Installs and Save Time</a></h2>\n",
       "<p class=\"entry-meta\"><time class=\"entry-time\" datetime=\"2019-04-15T15:03:50+00:00\" itemprop=\"datePublished\">April 15, 2019</time> by <span class=\"entry-author\" itemprop=\"author\" itemscope=\"\" itemtype=\"https://schema.org/Person\"><a class=\"entry-author-link\" href=\"https://coreyms.com/author/coreymschafer\" itemprop=\"url\" rel=\"author\"><span class=\"entry-author-name\" itemprop=\"name\">Corey Schafer</span></a></span> <span class=\"entry-comments-link\"><a href=\"https://coreyms.com/development/how-i-setup-a-new-development-machine-using-scripts-to-automate-installs-and-save-time#respond\"><span class=\"dsq-postid\" data-dsqidentifier=\"1623 http://coreyms.com/?p=1623\">Leave a Comment</span></a></span> </p></header><div class=\"entry-content\" itemprop=\"text\">\n",
       "<p>In this video, I’ll be showing how I set up a new development machine. I recently got a new MacBook and wanted to show how I use scripts to automate a lot of this process. It used to take me a lot of time to install all of my software and get everything set up the way I like it. Now I use these automated scripts to do this in minutes. Let’s get started…</p>\n",
       "<figure class=\"wp-block-embed-youtube wp-block-embed is-type-video is-provider-youtube wp-embed-aspect-16-9 wp-has-aspect-ratio\"><div class=\"wp-block-embed__wrapper\">\n",
       "<span class=\"embed-youtube\" style=\"text-align:center; display: block;\"><iframe allowfullscreen=\"true\" class=\"youtube-player\" height=\"360\" src=\"https://www.youtube.com/embed/kIdiWut8eD8?version=3&amp;rel=1&amp;fs=1&amp;autohide=2&amp;showsearch=0&amp;showinfo=1&amp;iv_load_policy=1&amp;wmode=transparent\" style=\"border:0;\" type=\"text/html\" width=\"640\"></iframe></span>\n",
       "</div></figure>\n",
       "</div><footer class=\"entry-footer\"><p class=\"entry-meta\"><span class=\"entry-categories\">Filed Under: <a href=\"https://coreyms.com/category/development\" rel=\"category tag\">Development</a></span> <span class=\"entry-tags\">Tagged With: <a href=\"https://coreyms.com/tag/dev-machine\" rel=\"tag\">dev machine</a>, <a href=\"https://coreyms.com/tag/development-environment\" rel=\"tag\">Development Environment</a>, <a href=\"https://coreyms.com/tag/development-machine\" rel=\"tag\">development machine</a>, <a href=\"https://coreyms.com/tag/mac\" rel=\"tag\">Mac</a>, <a href=\"https://coreyms.com/tag/macbook\" rel=\"tag\">macbook</a>, <a href=\"https://coreyms.com/tag/macbook-pro\" rel=\"tag\">macbook pro</a></span></p></footer></article><article class=\"post-1618 post type-post status-publish format-standard has-post-thumbnail category-development category-python tag-api tag-brew tag-data tag-data-science tag-homebrew tag-json tag-sorting entry\" itemscope=\"\" itemtype=\"https://schema.org/CreativeWork\"><header class=\"entry-header\"><h2 class=\"entry-title\" itemprop=\"headline\"><a class=\"entry-title-link\" href=\"https://coreyms.com/development/python/how-to-write-python-scripts-to-analyze-json-apis-and-sort-results\" rel=\"bookmark\">How to Write Python Scripts to Analyze JSON APIs and Sort Results</a></h2>\n",
       "<p class=\"entry-meta\"><time class=\"entry-time\" datetime=\"2019-04-09T15:19:35+00:00\" itemprop=\"datePublished\">April 9, 2019</time> by <span class=\"entry-author\" itemprop=\"author\" itemscope=\"\" itemtype=\"https://schema.org/Person\"><a class=\"entry-author-link\" href=\"https://coreyms.com/author/coreymschafer\" itemprop=\"url\" rel=\"author\"><span class=\"entry-author-name\" itemprop=\"name\">Corey Schafer</span></a></span> <span class=\"entry-comments-link\"><a href=\"https://coreyms.com/development/python/how-to-write-python-scripts-to-analyze-json-apis-and-sort-results#respond\"><span class=\"dsq-postid\" data-dsqidentifier=\"1618 http://coreyms.com/?p=1618\">Leave a Comment</span></a></span> </p></header><div class=\"entry-content\" itemprop=\"text\">\n",
       "<p>In this Python Programming Tutorial, we will be learning how to grab data from a JSON API, parse out the information we want, and then sort the data using a custom key. The API we will be using is a JSON API for Homebrew Packages and we will be sorting the packages by their popularity. We cover a lot of topics in this tutorial. We will be using the Requests Library, converting to/from JSON, reading and writing to files, writing our own sorting function, and more. Let’s get started…</p>\n",
       "<figure class=\"wp-block-embed-youtube wp-block-embed is-type-video is-provider-youtube wp-embed-aspect-16-9 wp-has-aspect-ratio\"><div class=\"wp-block-embed__wrapper\">\n",
       "<span class=\"embed-youtube\" style=\"text-align:center; display: block;\"><iframe allowfullscreen=\"true\" class=\"youtube-player\" height=\"360\" src=\"https://www.youtube.com/embed/1lxrb_ezP-g?version=3&amp;rel=1&amp;fs=1&amp;autohide=2&amp;showsearch=0&amp;showinfo=1&amp;iv_load_policy=1&amp;wmode=transparent\" style=\"border:0;\" type=\"text/html\" width=\"640\"></iframe></span>\n",
       "</div></figure>\n",
       "</div><footer class=\"entry-footer\"><p class=\"entry-meta\"><span class=\"entry-categories\">Filed Under: <a href=\"https://coreyms.com/category/development\" rel=\"category tag\">Development</a>, <a href=\"https://coreyms.com/category/development/python\" rel=\"category tag\">Python</a></span> <span class=\"entry-tags\">Tagged With: <a href=\"https://coreyms.com/tag/api\" rel=\"tag\">API</a>, <a href=\"https://coreyms.com/tag/brew\" rel=\"tag\">brew</a>, <a href=\"https://coreyms.com/tag/data\" rel=\"tag\">data</a>, <a href=\"https://coreyms.com/tag/data-science\" rel=\"tag\">Data Science</a>, <a href=\"https://coreyms.com/tag/homebrew\" rel=\"tag\">homebrew</a>, <a href=\"https://coreyms.com/tag/json\" rel=\"tag\">JSON</a>, <a href=\"https://coreyms.com/tag/sorting\" rel=\"tag\">Sorting</a></span></p></footer></article><article class=\"post-1614 post type-post status-publish format-standard has-post-thumbnail category-development category-terminal tag-brew tag-homebrew tag-mac tag-macos tag-package-manager entry\" itemscope=\"\" itemtype=\"https://schema.org/CreativeWork\"><header class=\"entry-header\"><h2 class=\"entry-title\" itemprop=\"headline\"><a class=\"entry-title-link\" href=\"https://coreyms.com/development/terminal/homebrew-tutorial-simplify-software-installation-on-mac-using-this-package-manager\" rel=\"bookmark\">Homebrew Tutorial: Simplify Software Installation on Mac Using This Package Manager</a></h2>\n",
       "<p class=\"entry-meta\"><time class=\"entry-time\" datetime=\"2019-04-09T13:26:14+00:00\" itemprop=\"datePublished\">April 9, 2019</time> by <span class=\"entry-author\" itemprop=\"author\" itemscope=\"\" itemtype=\"https://schema.org/Person\"><a class=\"entry-author-link\" href=\"https://coreyms.com/author/coreymschafer\" itemprop=\"url\" rel=\"author\"><span class=\"entry-author-name\" itemprop=\"name\">Corey Schafer</span></a></span> <span class=\"entry-comments-link\"><a href=\"https://coreyms.com/development/terminal/homebrew-tutorial-simplify-software-installation-on-mac-using-this-package-manager#respond\"><span class=\"dsq-postid\" data-dsqidentifier=\"1614 http://coreyms.com/?p=1614\">Leave a Comment</span></a></span> </p></header><div class=\"entry-content\" itemprop=\"text\">\n",
       "<p>In this video, we’ll be learning how to use the Homebrew Package Manager on MacOS. Brew allows us to easily install command-line tools with a simple command. We can also install native applications for Mac using Brew Cask. I often use these commands in scripts to install a lot of new software quickly and easily on new machines. Let’s get started…</p>\n",
       "<figure class=\"wp-block-embed-youtube wp-block-embed is-type-video is-provider-youtube wp-embed-aspect-16-9 wp-has-aspect-ratio\"><div class=\"wp-block-embed__wrapper\">\n",
       "<span class=\"embed-youtube\" style=\"text-align:center; display: block;\"><iframe allowfullscreen=\"true\" class=\"youtube-player\" height=\"360\" src=\"https://www.youtube.com/embed/SELYgZvAZbU?version=3&amp;rel=1&amp;fs=1&amp;autohide=2&amp;showsearch=0&amp;showinfo=1&amp;iv_load_policy=1&amp;wmode=transparent\" style=\"border:0;\" type=\"text/html\" width=\"640\"></iframe></span>\n",
       "</div></figure>\n",
       "</div><footer class=\"entry-footer\"><p class=\"entry-meta\"><span class=\"entry-categories\">Filed Under: <a href=\"https://coreyms.com/category/development\" rel=\"category tag\">Development</a>, <a href=\"https://coreyms.com/category/development/terminal\" rel=\"category tag\">Terminal</a></span> <span class=\"entry-tags\">Tagged With: <a href=\"https://coreyms.com/tag/brew\" rel=\"tag\">brew</a>, <a href=\"https://coreyms.com/tag/homebrew\" rel=\"tag\">homebrew</a>, <a href=\"https://coreyms.com/tag/mac\" rel=\"tag\">Mac</a>, <a href=\"https://coreyms.com/tag/macos\" rel=\"tag\">macos</a>, <a href=\"https://coreyms.com/tag/package-manager\" rel=\"tag\">package manager</a></span></p></footer></article><article class=\"post-1611 post type-post status-publish format-standard has-post-thumbnail category-development category-python tag-venv tag-virtual-environment tag-virtualenv entry\" itemscope=\"\" itemtype=\"https://schema.org/CreativeWork\"><header class=\"entry-header\"><h2 class=\"entry-title\" itemprop=\"headline\"><a class=\"entry-title-link\" href=\"https://coreyms.com/development/python/python-tutorial-venv-windows-how-to-use-virtual-environments-with-the-built-in-venv-module\" rel=\"bookmark\">Python Tutorial: VENV (Windows) – How to Use Virtual Environments with the Built-In venv Module</a></h2>\n",
       "<p class=\"entry-meta\"><time class=\"entry-time\" datetime=\"2019-04-06T12:53:40+00:00\" itemprop=\"datePublished\">April 6, 2019</time> by <span class=\"entry-author\" itemprop=\"author\" itemscope=\"\" itemtype=\"https://schema.org/Person\"><a class=\"entry-author-link\" href=\"https://coreyms.com/author/coreymschafer\" itemprop=\"url\" rel=\"author\"><span class=\"entry-author-name\" itemprop=\"name\">Corey Schafer</span></a></span> <span class=\"entry-comments-link\"><a href=\"https://coreyms.com/development/python/python-tutorial-venv-windows-how-to-use-virtual-environments-with-the-built-in-venv-module#respond\"><span class=\"dsq-postid\" data-dsqidentifier=\"1611 http://coreyms.com/?p=1611\">Leave a Comment</span></a></span> </p></header><div class=\"entry-content\" itemprop=\"text\">\n",
       "<p>In this Python Programming Tutorial, we will be learning how to use virtual environments on the Windows operating systems with the built-in <g class=\"gr_ gr_4 gr-alert gr_spell gr_inline_cards gr_run_anim ContextualSpelling\" data-gr-id=\"4\" id=\"4\">venv</g> module. We will learn how to create them, activate them, remove them, and much more. Let’s get started…</p>\n",
       "<figure class=\"wp-block-embed-youtube wp-block-embed is-type-video is-provider-youtube wp-embed-aspect-16-9 wp-has-aspect-ratio\"><div class=\"wp-block-embed__wrapper\">\n",
       "<span class=\"embed-youtube\" style=\"text-align:center; display: block;\"><iframe allowfullscreen=\"true\" class=\"youtube-player\" height=\"360\" src=\"https://www.youtube.com/embed/APOPm01BVrk?version=3&amp;rel=1&amp;fs=1&amp;autohide=2&amp;showsearch=0&amp;showinfo=1&amp;iv_load_policy=1&amp;wmode=transparent\" style=\"border:0;\" type=\"text/html\" width=\"640\"></iframe></span>\n",
       "</div></figure>\n",
       "</div><footer class=\"entry-footer\"><p class=\"entry-meta\"><span class=\"entry-categories\">Filed Under: <a href=\"https://coreyms.com/category/development\" rel=\"category tag\">Development</a>, <a href=\"https://coreyms.com/category/development/python\" rel=\"category tag\">Python</a></span> <span class=\"entry-tags\">Tagged With: <a href=\"https://coreyms.com/tag/venv\" rel=\"tag\">venv</a>, <a href=\"https://coreyms.com/tag/virtual-environment\" rel=\"tag\">virtual environment</a>, <a href=\"https://coreyms.com/tag/virtualenv\" rel=\"tag\">virtualenv</a></span></p></footer></article><article class=\"post-1608 post type-post status-publish format-standard has-post-thumbnail category-development category-python tag-venv tag-virtual-environment tag-virtualenv entry\" itemscope=\"\" itemtype=\"https://schema.org/CreativeWork\"><header class=\"entry-header\"><h2 class=\"entry-title\" itemprop=\"headline\"><a class=\"entry-title-link\" href=\"https://coreyms.com/development/python/python-tutorial-venv-mac-linux-how-to-use-virtual-environments-with-the-built-in-venv-module\" rel=\"bookmark\">Python Tutorial: VENV (Mac &amp; Linux) – How to Use Virtual Environments with the Built-In venv Module</a></h2>\n",
       "<p class=\"entry-meta\"><time class=\"entry-time\" datetime=\"2019-04-06T12:51:53+00:00\" itemprop=\"datePublished\">April 6, 2019</time> by <span class=\"entry-author\" itemprop=\"author\" itemscope=\"\" itemtype=\"https://schema.org/Person\"><a class=\"entry-author-link\" href=\"https://coreyms.com/author/coreymschafer\" itemprop=\"url\" rel=\"author\"><span class=\"entry-author-name\" itemprop=\"name\">Corey Schafer</span></a></span> <span class=\"entry-comments-link\"><a href=\"https://coreyms.com/development/python/python-tutorial-venv-mac-linux-how-to-use-virtual-environments-with-the-built-in-venv-module#respond\"><span class=\"dsq-postid\" data-dsqidentifier=\"1608 http://coreyms.com/?p=1608\">Leave a Comment</span></a></span> </p></header><div class=\"entry-content\" itemprop=\"text\">\n",
       "<p>In this Python Programming Tutorial, we will be learning how to use virtual environments on the Mac and Linux operating systems with the built-in <g class=\"gr_ gr_5 gr-alert gr_spell gr_inline_cards gr_run_anim ContextualSpelling\" data-gr-id=\"5\" id=\"5\">venv</g> module. We will learn how to create them, activate them, remove them, and much more. Let’s get started…</p>\n",
       "<figure class=\"wp-block-embed-youtube wp-block-embed is-type-video is-provider-youtube wp-embed-aspect-16-9 wp-has-aspect-ratio\"><div class=\"wp-block-embed__wrapper\">\n",
       "<span class=\"embed-youtube\" style=\"text-align:center; display: block;\"><iframe allowfullscreen=\"true\" class=\"youtube-player\" height=\"360\" src=\"https://www.youtube.com/embed/Kg1Yvry_Ydk?version=3&amp;rel=1&amp;fs=1&amp;autohide=2&amp;showsearch=0&amp;showinfo=1&amp;iv_load_policy=1&amp;wmode=transparent\" style=\"border:0;\" type=\"text/html\" width=\"640\"></iframe></span>\n",
       "</div></figure>\n",
       "</div><footer class=\"entry-footer\"><p class=\"entry-meta\"><span class=\"entry-categories\">Filed Under: <a href=\"https://coreyms.com/category/development\" rel=\"category tag\">Development</a>, <a href=\"https://coreyms.com/category/development/python\" rel=\"category tag\">Python</a></span> <span class=\"entry-tags\">Tagged With: <a href=\"https://coreyms.com/tag/venv\" rel=\"tag\">venv</a>, <a href=\"https://coreyms.com/tag/virtual-environment\" rel=\"tag\">virtual environment</a>, <a href=\"https://coreyms.com/tag/virtualenv\" rel=\"tag\">virtualenv</a></span></p></footer></article><div class=\"archive-pagination pagination\"><ul><li class=\"active\"><a aria-current=\"page\" aria-label=\"Current page\" href=\"https://coreyms.com/\">1</a></li>\n",
       "<li><a href=\"https://coreyms.com/page/2\">2</a></li>\n",
       "<li><a href=\"https://coreyms.com/page/3\">3</a></li>\n",
       "<li class=\"pagination-omission\">…</li>\n",
       "<li><a href=\"https://coreyms.com/page/16\">16</a></li>\n",
       "<li class=\"pagination-next\"><a href=\"https://coreyms.com/page/2\">Next Page »</a></li>\n",
       "</ul></div>\n",
       "</main>"
      ]
     },
     "execution_count": 10,
     "metadata": {},
     "output_type": "execute_result"
    }
   ],
   "source": [
    "section=soup.find('main',attrs={'class':'content'})\n",
    "section"
   ]
  },
  {
   "cell_type": "code",
   "execution_count": 18,
   "metadata": {},
   "outputs": [],
   "source": [
    "result=[]\n",
    "for c,items in enumerate(section):\n",
    "    if c==10 or c==11:\n",
    "        continue\n",
    "    name=items.header.h2.a.text\n",
    "    publishdate=items.find('time').text\n",
    "    author=items.find('span').text\n",
    "    content=items.find('div',attrs={'class':'entry-content'}).p.text\n",
    "    link=items.find('iframe',attrs={'class':'youtube-player'})['src'] # it is like dictionary in which we provide the key for the value\n",
    "    yt_link=f\"https://youtu.be/{link.split('/')[4].split('?')[0]}\"\n",
    "    result.append({'VIDEONAME':name,'PUBLISHDATE':publishdate,'AUTHORNAME':author,'SUMMARY':content,'VIDEOLINK':yt_link})"
   ]
  },
  {
   "cell_type": "code",
   "execution_count": 12,
   "metadata": {},
   "outputs": [
    {
     "data": {
      "text/plain": [
       "[{'VIDEONAME': 'Python Tutorial: Calling External Commands Using the Subprocess Module',\n",
       "  'PUBLISHDATE': 'July 24, 2019',\n",
       "  'AUTHORNAME': 'Corey Schafer',\n",
       "  'SUMMARY': 'In this Python Programming Tutorial, we will be learning how to run external commands using the subprocess module from the standard library. We will learn how to run commands, capture the output, handle errors, and also how to pipe output into other commands. Let’s get started…',\n",
       "  'VIDEOLINK': 'https://youtu.be/2Fp1N6dof0Y'},\n",
       " {'VIDEONAME': 'Visual Studio Code (Windows) – Setting up a Python Development Environment and Complete Overview',\n",
       "  'PUBLISHDATE': 'May 1, 2019',\n",
       "  'AUTHORNAME': 'Corey Schafer',\n",
       "  'SUMMARY': 'In this Python Programming Tutorial, we will be learning how to set up a Python development environment in VSCode on Windows. VSCode is a very nice free editor for writing Python applications and many developers are now switching over to this editor. In this video, we will learn how to install VSCode, get the Python extension installed, how to change Python interpreters, create virtual environments, format/lint our code, how to use Git within VSCode, how to debug our programs, how unit testing works, and more. We have a lot to cover, so let’s go ahead and get started…',\n",
       "  'VIDEOLINK': 'https://youtu.be/-nh9rCzPJ20'},\n",
       " {'VIDEONAME': 'Visual Studio Code (Mac) – Setting up a Python Development Environment and Complete Overview',\n",
       "  'PUBLISHDATE': 'May 1, 2019',\n",
       "  'AUTHORNAME': 'Corey Schafer',\n",
       "  'SUMMARY': 'In this Python Programming Tutorial, we will be learning how to set up a Python development environment in VSCode on MacOS. VSCode is a very nice free editor for writing Python applications and many developers are now switching over to this editor. In this video, we will learn how to install VSCode, get the Python extension installed, how to change Python interpreters, create virtual environments, format/lint our code, how to use Git within VSCode, how to debug our programs, how unit testing works, and more. We have a lot to cover, so let’s go ahead and get started…',\n",
       "  'VIDEOLINK': 'https://youtu.be/06I63_p-2A4'},\n",
       " {'VIDEONAME': 'Clarifying the Issues with Mutable Default Arguments',\n",
       "  'PUBLISHDATE': 'April 24, 2019',\n",
       "  'AUTHORNAME': 'Corey Schafer',\n",
       "  'SUMMARY': 'In this Python Programming Tutorial, we will be clarifying the issues with mutable default arguments. We discussed this in my last video titled “5 Common Python Mistakes and How to Fix Them”, but I received many comments from people who were still confused. So we will be doing a deeper dive to explain exactly what is going on here. Let’s get started…',\n",
       "  'VIDEOLINK': 'https://youtu.be/_JGmemuINww'},\n",
       " {'VIDEONAME': '5 Common Python Mistakes and How to Fix Them',\n",
       "  'PUBLISHDATE': 'April 22, 2019',\n",
       "  'AUTHORNAME': 'Corey Schafer',\n",
       "  'SUMMARY': 'In this Python Programming Tutorial, we will be going over some of the most common mistakes. I get a lot of questions from people every day, and I have seen a lot of people making these same mistakes in their code. So we will investigate each of these common mistakes and also look at the fixes for each other these as well. Here are the timestamps for each topic we will cover… 1) Indentation and Spaces – 0:45 2) Naming Conflicts – 4:12 3) Mutable Default Args – 10:05 4) Exhausting Iterators – 16:35 5) Importing with * – 22:13',\n",
       "  'VIDEOLINK': 'https://youtu.be/zdJEYhA2AZQ'},\n",
       " {'VIDEONAME': 'How I Setup a New Development Machine – Using Scripts to Automate Installs and Save Time',\n",
       "  'PUBLISHDATE': 'April 15, 2019',\n",
       "  'AUTHORNAME': 'Corey Schafer',\n",
       "  'SUMMARY': 'In this video, I’ll be showing how I set up a new development machine. I recently got a new MacBook and wanted to show how I use scripts to automate a lot of this process. It used to take me a lot of time to install all of my software and get everything set up the way I like it. Now I use these automated scripts to do this in minutes. Let’s get started…',\n",
       "  'VIDEOLINK': 'https://youtu.be/kIdiWut8eD8'},\n",
       " {'VIDEONAME': 'How to Write Python Scripts to Analyze JSON APIs and Sort Results',\n",
       "  'PUBLISHDATE': 'April 9, 2019',\n",
       "  'AUTHORNAME': 'Corey Schafer',\n",
       "  'SUMMARY': 'In this Python Programming Tutorial, we will be learning how to grab data from a JSON API, parse out the information we want, and then sort the data using a custom key. The API we will be using is a JSON API for Homebrew Packages and we will be sorting the packages by their popularity. We cover a lot of topics in this tutorial. We will be using the Requests Library, converting to/from JSON, reading and writing to files, writing our own sorting function, and more. Let’s get started…',\n",
       "  'VIDEOLINK': 'https://youtu.be/1lxrb_ezP-g'},\n",
       " {'VIDEONAME': 'Homebrew Tutorial: Simplify Software Installation on Mac Using This Package Manager',\n",
       "  'PUBLISHDATE': 'April 9, 2019',\n",
       "  'AUTHORNAME': 'Corey Schafer',\n",
       "  'SUMMARY': 'In this video, we’ll be learning how to use the Homebrew Package Manager on MacOS. Brew allows us to easily install command-line tools with a simple command. We can also install native applications for Mac using Brew Cask. I often use these commands in scripts to install a lot of new software quickly and easily on new machines. Let’s get started…',\n",
       "  'VIDEOLINK': 'https://youtu.be/SELYgZvAZbU'},\n",
       " {'VIDEONAME': 'Python Tutorial: VENV (Windows) – How to Use Virtual Environments with the Built-In venv Module',\n",
       "  'PUBLISHDATE': 'April 6, 2019',\n",
       "  'AUTHORNAME': 'Corey Schafer',\n",
       "  'SUMMARY': 'In this Python Programming Tutorial, we will be learning how to use virtual environments on the Windows operating systems with the built-in venv module. We will learn how to create them, activate them, remove them, and much more. Let’s get started…',\n",
       "  'VIDEOLINK': 'https://youtu.be/APOPm01BVrk'},\n",
       " {'VIDEONAME': 'Python Tutorial: VENV (Mac & Linux) – How to Use Virtual Environments with the Built-In venv Module',\n",
       "  'PUBLISHDATE': 'April 6, 2019',\n",
       "  'AUTHORNAME': 'Corey Schafer',\n",
       "  'SUMMARY': 'In this Python Programming Tutorial, we will be learning how to use virtual environments on the Mac and Linux operating systems with the built-in venv module. We will learn how to create them, activate them, remove them, and much more. Let’s get started…',\n",
       "  'VIDEOLINK': 'https://youtu.be/Kg1Yvry_Ydk'}]"
      ]
     },
     "execution_count": 12,
     "metadata": {},
     "output_type": "execute_result"
    }
   ],
   "source": [
    "result"
   ]
  },
  {
   "cell_type": "code",
   "execution_count": 13,
   "metadata": {},
   "outputs": [],
   "source": [
    "import pandas as pd"
   ]
  },
  {
   "cell_type": "code",
   "execution_count": 15,
   "metadata": {},
   "outputs": [],
   "source": [
    "dataset=pd.DataFrame(result)\n",
    "dataset=dataset[['VIDEONAME','AUTHORNAME','SUMMARY','VIDEOLINK','PUBLISHDATE']]\n",
    "dataset.to_csv(\"PYTHON.csv\")"
   ]
  },
  {
   "cell_type": "code",
   "execution_count": null,
   "metadata": {},
   "outputs": [],
   "source": []
  }
 ],
 "metadata": {
  "kernelspec": {
   "display_name": "Python 3",
   "language": "python",
   "name": "python3"
  },
  "language_info": {
   "codemirror_mode": {
    "name": "ipython",
    "version": 3
   },
   "file_extension": ".py",
   "mimetype": "text/x-python",
   "name": "python",
   "nbconvert_exporter": "python",
   "pygments_lexer": "ipython3",
   "version": "3.7.0"
  }
 },
 "nbformat": 4,
 "nbformat_minor": 2
}
